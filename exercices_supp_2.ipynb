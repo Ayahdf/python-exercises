{
 "cells": [
  {
   "attachments": {},
   "cell_type": "markdown",
   "metadata": {},
   "source": [
    "# Exercice 1\n",
    "Supposons que vous avez la liste suivante de dictionnaires :\n",
    "\n",
    "```python\n",
    "P = [\n",
    "    {'prenom':'Vladimir', 'nom':'Putin', 'email':'president@kremvax.ru'},\n",
    "    {'prenom':'Emmanuel', 'nom':'Macron', 'email':'emmanuel@macron.gouv.fr'},\n",
    "    {'prenom':'Joe', 'nom':'Biden', 'email':'president@whitehouse.gov'}\n",
    "]\n",
    "```\n",
    "\n",
    "Écrivez une fonction, *sortByName*, qui suppose l'existence d'une constante *P* définie comme indiqué dans le code. La fonction doit renvoyer la liste de dictionnaires, triée par nom et prénom."
   ]
  },
  {
   "attachments": {},
   "cell_type": "markdown",
   "metadata": {},
   "source": [
    "# Exercice 2\n",
    "Créez la fonction *sortBySum* qui prend une liste de listes comme arguments et trie la liste donnée par la somme des nombres de chaque liste intérieure.\n",
    "\n",
    "Exemples :\n",
    "\n",
    "```python\n",
    "l = [[1, -2, 3], [-1, 2, 3], [0, -1, -2]]\n",
    "sortBySum(l) # retourne [[0, -1, -2], [1, -2, 3], [-1, 2, 3]]\n",
    "```"
   ]
  },
  {
   "attachments": {},
   "cell_type": "markdown",
   "metadata": {},
   "source": [
    "# Exercice 3\n",
    "Écrivez la fonction *mostRepeated*, qui prend une séquence de mots comme argument. La fonction doit retourner le mot qui contient le plus grand nombre de lettres répétées. En d'autres termes, la fonction doit retourner le mot qui contient le plus grand nombre de lettres répétées :\n",
    "- Pour chaque mot, trouvez la lettre qui apparaît le plus souvent.\n",
    "- Trouver le mot dont la lettre la plus répétée apparaît le plus souvent.\n",
    "\n",
    "Exemples :\n",
    "\n",
    "```python\n",
    "words = ['Ceci', 'est', 'un', 'exemple', 'de', 'test']\n",
    "mostRepeated(words) # retourne exemple\n",
    "```"
   ]
  },
  {
   "attachments": {},
   "cell_type": "markdown",
   "metadata": {},
   "source": [
    "# Exercice 4\n",
    "Écrivez la fonction *dictDiff*, qui prend deux dictionnaires comme arguments. La fonction renvoie un nouveau dictionnaire qui exprime la différence entre les deux dictionnaires.\n",
    "S'il n'y a pas de différence entre les dictionnaires, la fonction renvoie un dictionnaire vide. Pour chaque paire clé-valeur qui diffère, la valeur de retour de votre fonction aura une paire clé-valeur dans laquelle la valeur est une liste contenant les valeurs des deux dictionnaires différents. Si l'un des dictionnaires ne contient pas cette clé, il doit contenir *None*.\n",
    "\n",
    "Exemples :\n",
    "\n",
    "```python\n",
    "d1 = {'a':1, 'b':2, 'c':3}\n",
    "d2 = {'a':1, 'b':2, 'c':4}\n",
    "dictDiff(d1, d1) # retourne {}\n",
    "dictDiff(d1, d2) # retourne {'c': [3, 4]}\n",
    "d3 = {'a':1, 'b':2, 'd':3}\n",
    "d4 = {'a':1, 'b':2, 'c':4}\n",
    "dictDiff(d3, d4) # retourne {'c': [None, 4], 'd': [3, None]}\n",
    "```"
   ]
  },
  {
   "attachments": {},
   "cell_type": "markdown",
   "metadata": {},
   "source": [
    "# Exercice 5\n",
    "La méthode *nom_dict.update* fusionne deux dictionnaires. Écrivez la fonction *dictMerge* qui prend un nombre quelconque de dictionnaires et renvoie un dictionnaire représentant la combinaison de tous ces dictionnaires. Si la même clé apparaît dans plus d'un dictionnaire, la valeur du dictionnaire fusionné le plus récemment doit apparaître dans la sortie.\n",
    "\n",
    "Exemples :\n",
    "\n",
    "```python\n",
    "d1 = {'a':1, 'b':2, 'c':3}\n",
    "d2 = {'a':4, 'b':5, 'd':4}\n",
    "d3 = {'c': 2, 'a': 3, 'e': -1}\n",
    "dictMerge(d1, d2) # retourne {'a':4, 'b':5, 'c':3, 'd':4}\n",
    "dictMerge(d1, d2, d3) # retourne {'a':3, 'b':5, 'c':2, 'd':4, 'e':-1}\n",
    "```"
   ]
  },
  {
   "attachments": {},
   "cell_type": "markdown",
   "metadata": {},
   "source": [
    "# Exercice 6\n",
    "En Python, comme dans la vie réelle, nous écrivons normalement les opérations mathématiques en utilisant la notation infixe, comme dans ```2 + 3```. Mais il existe aussi d'autres méthodes connues sous le nom de [notation préfixe](https://fr.wikipedia.org/wiki/Notations_infix%C3%A9e,_pr%C3%A9fix%C3%A9e,_polonaise_et_postfix%C3%A9e) ou \"notation polonaise\" (\"Polish Notation\" ou PN), dans lesquelles l'opérateur précède les arguments. En utilisant la notation préfixe, nous écrivons ```+ 2 3```. Les nombres doivent alors être séparés par des espaces.\n",
    "Il existe également la notation postfixe, parfois connue sous le nom de \"notation polonaise inversée\" (\"Reverse Polish Notation\" ou RPN), qui est encore utilisée sur les calculatrices de la marque HP. Dans ce cas, on écrit ```2 3 +```.\n",
    "La notation préfixe et la notation postfixe sont toutes deux utiles en ce sens qu'elles nous permettent d'effectuer des opérations sophistiquées sans parenthèses. Par exemple, si vous écrivez ```2 3 4 + *``` dans RPN, vous indiquez au système d'additionner 3 + 4 puis de multiplier 2 * 7.\n",
    "Écrivez la fonction *calcPrefix* qui prend comme paramètre unique une chaîne de caractères contenant une expression mathématique en notation préfixe. Votre fonction analyse le paramètre et produit la sortie appropriée. Pour nos besoins, il suffit de gérer les six opérations arithmétiques de base en Python : l'addition (+), la soustraction (-), la multiplication (*), la division (/), le module (%) et l'exponentiation (**).\n",
    "Vous ne devez pas utiliser une instruction *if* pour décider quelle opération effectuer.\n",
    "Utilisez le module [*operator*](https://docs.python.org/3/library/operator.html), qui contient des fonctions implémentant la plupart des opérateurs de Python.\n",
    "\n",
    "Exemples :\n",
    "\n",
    "```python\n",
    "calcPrefix(\"+ - 1 2 * 3 4\") # retourne 11 parce que (1 - 2) + 3 * 4 = 11\n",
    "calcPrefix(\"/ * -1 3 + % 4 3 5\") # retourne -0.5 parce que (-1 * 3) / ((4 % 3) + 5) = -0.5\n",
    "```"
   ]
  },
  {
   "attachments": {},
   "cell_type": "markdown",
   "metadata": {},
   "source": [
    "# Exercice 7\n",
    "Écrire la fonction *sumNumbers* qui prend en paramètre une chaîne de caractères composée de chaînes de caractères séparées par des espaces, la fonction transforme ces chaînes de caractères en nombres, choisit ceux qui peuvent être transformés en nombres entiers, puis les additionne.\n",
    "\n",
    "Exemples :\n",
    "\n",
    "```python\n",
    "sumNumbers(\"10 abc 20 de44 30 55fg 40\") # retourne 100\n",
    "```"
   ]
  },
  {
   "attachments": {},
   "cell_type": "markdown",
   "metadata": {},
   "source": [
    "# Exercice 8\n",
    "La fonction intégrée [map](https://docs.python.org/3/library/functions.html#map) prend deux arguments : une fonction et un itérable. Elle renvoie une nouvelle séquence, qui est le résultat de l'application de la fonction à chaque élément de l'itérable d'entrée.\n",
    "Dans cet exercice, vous allez créer une variante de la fonction map, qui applique une fonction à chacune des valeurs d'un dictionnaire. Le résultat de cette fonction, *transformValues*, est un nouveau dictionnaire dont les clés sont les mêmes que celles du dictionnaire d'entrée, mais dont les valeurs ont été transformées par la fonction. La fonction transmise à *transformValues* doit prendre un seul paramètre, la valeur du dictionnaire.\n",
    "\n",
    "Exemples :\n",
    "\n",
    "```python\n",
    "d = {'a':1, 'b':2, 'c':3}\n",
    "transformValues(lambda x: x*x, d) # retourne {'a': 1, 'b': 4, 'c': 9}\n",
    "```"
   ]
  },
  {
   "attachments": {},
   "cell_type": "markdown",
   "metadata": {},
   "source": [
    "# Exercice 9\n",
    "Écrivez la fonction *isSv* qui vérifie si un mot est \"supervocalique\" ou non. Un mot supervocalique est un mot qui contient les cinq voyelles (a, e, i, o et u) exactement une fois chacune. Pour cet exercice, vous devez vérifier également l'ordre alphabétique où les cinq voyelles apparaissent une fois dans l'ordre alphabétique.\n",
    "\n",
    "Exemples :\n",
    "\n",
    "```python\n",
    "isSv(\"sequoia\") # retourne True\n",
    "isSv(\"supervocalic\") # retourne False\n",
    "```"
   ]
  },
  {
   "attachments": {},
   "cell_type": "markdown",
   "metadata": {},
   "source": [
    "# Exercice 10\n",
    "La [\"Gematria\"](https://fr.wikipedia.org/wiki/Gematria) est une forme d'exégèse propre à la Bible hébraïque dans laquelle on ajoute la valeur numérique des lettres et des phrases afin de les interpréter.\n",
    "L'un des chiffrements alphanumériques les plus simples, qui permet de transformer des lettres en chiffres, est le [A1Z26](https://www.dcode.fr/letter-number-cipher) (alphabet chiffré), il consiste à remplacer chaque lettre par sa position dans l'alphabet, par exemple, A=1, B=2, Z=26, d'où son nom A1Z26.\n",
    "Dans cet exercice, vous devez calculer la valeur numérique d'un mot selon le chiffrement A1Z26. Écrivez les deux fonctions suivantes :\n",
    "- *gematria_for*, qui prend un seul mot (chaîne de caractères) comme paramètre et renvoie la valeur numérique de ce mot en le transformant en nombres à l'aide du chiffrement A1Z26, puis en calculant la somme.\n",
    "- *gematria_equal_words*, qui prend deux mots et renvoie *True* si les valeurs numériques de ces mots correspondent, sinon elle renvoie *False*.\n",
    "\n",
    "Exemples :\n",
    "\n",
    "```python\n",
    "gematria_for(\"cat\") # retourne 24\n",
    "gematria_equal_words(\"cat\", \"canada\") # retourne True\n",
    "gematria_equal_words(\"cat\", \"dog\") # retourne False\n",
    "```"
   ]
  },
  {
   "attachments": {},
   "cell_type": "markdown",
   "metadata": {},
   "source": [
    "# Exercice 11\n",
    "Écrivez la fonction *formatXml*, qui permet de créer un élément [XML](https://fr.wikipedia.org/wiki/Extensible_Markup_Language) simple. La fonction peut être appelée de plusieurs manières, comme le montre le tableau ci-dessous :\n",
    "\n",
    "<table>\n",
    "<thead>\n",
    "  <tr>\n",
    "    <th>Appel</th>\n",
    "    <th>Valeur retournée</th>\n",
    "  </tr>\n",
    "</thead>\n",
    "<tbody>\n",
    "  <tr>\n",
    "    <td>formatXml('foo')</td>\n",
    "    <td>&lt;foo&gt;&lt;/foo&gt;</td>\n",
    "  </tr>\n",
    "  <tr>\n",
    "    <td>formatXml('foo', 'bar')</td>\n",
    "    <td>&lt;foo&gt;bar&lt;/foo&gt;</td>\n",
    "  </tr>\n",
    "  <tr>\n",
    "    <td>formatXml('foo', 'bar', a=1, b=2, c=3)</td>\n",
    "    <td>&lt;foo a=\"1\" b=\"2\" c=\"3\"&gt;bar&lt;/foo&gt;</td>\n",
    "  </tr>\n",
    "</tbody>\n",
    "</table>\n",
    "\n",
    "Notez que dans tous les cas, le premier argument est le nom de la balise. Dans les deux derniers cas, le deuxième argument est le contenu (texte) placé entre les balises d'ouverture et de fermeture. Et dans le troisième cas, les paires nom-valeur seront transformées en attributs à l'intérieur de la balise d'ouverture."
   ]
  }
 ],
 "metadata": {
  "language_info": {
   "name": "python"
  },
  "orig_nbformat": 4
 },
 "nbformat": 4,
 "nbformat_minor": 2
}
